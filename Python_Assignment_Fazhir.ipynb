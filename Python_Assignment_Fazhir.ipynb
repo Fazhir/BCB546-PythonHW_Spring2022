{
 "cells": [
  {
   "cell_type": "markdown",
   "id": "8029a747",
   "metadata": {},
   "source": [
    "## Python Assignment (Fazhir)"
   ]
  },
  {
   "cell_type": "code",
   "execution_count": 1,
   "id": "c2c213f1",
   "metadata": {},
   "outputs": [
    {
     "name": "stdout",
     "output_type": "stream",
     "text": [
      "Requirement already satisfied: biopython in c:\\users\\aisha\\anaconda3\\lib\\site-packages (1.78)\n",
      "Requirement already satisfied: numpy in c:\\users\\aisha\\anaconda3\\lib\\site-packages (from biopython) (1.20.3)\n"
     ]
    }
   ],
   "source": [
    "# ignore this if you already installed Biopython\n",
    "!pip install biopython "
   ]
  },
  {
   "cell_type": "code",
   "execution_count": 2,
   "id": "171a7017",
   "metadata": {},
   "outputs": [],
   "source": [
    "from Bio import SeqIO\n",
    "from Bio.Data import CodonTable\n",
    "import pandas as pd"
   ]
  },
  {
   "cell_type": "markdown",
   "id": "e2c694fe",
   "metadata": {},
   "source": [
    "#### 1. Documenting Dr. X's function"
   ]
  },
  {
   "cell_type": "code",
   "execution_count": 3,
   "id": "453d26db",
   "metadata": {},
   "outputs": [],
   "source": [
    "# select out only the sequences from the fasta_fn file by;\n",
    "# calling the fasta file to memory as an argument\n",
    "def get_sequences_from_file(fasta_fn):\n",
    "    # opens an empty dictionary\n",
    "    sequence_data_dict = {}\n",
    "    for record in SeqIO.parse(fasta_fn, \"fasta\"):\n",
    "        # break the description of the sequence such that each word appears on a single line\n",
    "        description = record.description.split()\n",
    "        # arrange the species_name in the dictionary\n",
    "        # call the words on the first and second rows, with a space in between then denoted as `\" \"`\n",
    "        species_name = description[1] + \" \" + description[2]\n",
    "        # allocates the created species_name to the respective sequence in the dictionary\n",
    "        sequence_data_dict[species_name] = record.seq\n",
    "    # closes the for-loop and stores the resultant dictionary created to memory\n",
    "    return(sequence_data_dict)"
   ]
  },
  {
   "cell_type": "markdown",
   "id": "3032025c",
   "metadata": {},
   "source": [
    "#### 2. String-translate function"
   ]
  },
  {
   "cell_type": "code",
   "execution_count": 4,
   "id": "aeb054f9",
   "metadata": {},
   "outputs": [],
   "source": [
    "from Bio.Data import CodonTable\n",
    "from Bio.Seq import Seq"
   ]
  },
  {
   "cell_type": "code",
   "execution_count": 5,
   "id": "5e45941b",
   "metadata": {},
   "outputs": [],
   "source": [
    "def translate_function(string_nucleotides):\n",
    "    # call the Vertebrate Mitochondrial table of chodons\n",
    "    mito_table = CodonTable.unambiguous_dna_by_name[\"Vertebrate Mitochondrial\"]\n",
    "    # open an empty string for storing the nucleotide sequences\n",
    "    aa_seq_string = ''\n",
    "    for i in range(1, len(string_nucleotides), 3):\n",
    "        # consider a codon to be every other three nucleotides in length\n",
    "        codon = string_nucleotides[i:i+3]\n",
    "        # if we meet any of these sequences, we consider the read done and stop at them\n",
    "        if codon in [\"TAA\", \"TAG\", \"AGA\", \"AGG\"]:\n",
    "            return aa_seq_string\n",
    "        # the final aa sequence is obtained by assigning codon laters from the mito_table to the identified codons\n",
    "        aa_seq_string = aa_seq_string+mito_table.forward_table[codon]\n",
    "    return(aa_seq_string)"
   ]
  },
  {
   "cell_type": "markdown",
   "id": "12fe2679",
   "metadata": {},
   "source": [
    "#### 3. Alternative translate function"
   ]
  },
  {
   "cell_type": "code",
   "execution_count": 6,
   "id": "c609c5d2",
   "metadata": {},
   "outputs": [],
   "source": [
    "# BioPython library offers seq.translate() funtion\n",
    "# hence we can translate directly via the Library\n",
    "def translate_viaLib(string_nucleotides):\n",
    "    # we annotate the called sequences with the Vertebrate Mitochondial table to stop whenever a stop codon is realized\n",
    "    seq_string = Seq.translate(string_nucleotides, table=2, to_stop=True)\n",
    "    return seq_string # seq_string is the output sequence"
   ]
  },
  {
   "cell_type": "markdown",
   "id": "a476e4cd",
   "metadata": {},
   "source": [
    "#### 4. Count AA analysis function"
   ]
  },
  {
   "cell_type": "code",
   "execution_count": 7,
   "id": "f54d3f3c",
   "metadata": {},
   "outputs": [],
   "source": [
    "from Bio.SeqUtils.ProtParam import ProteinAnalysis\n",
    "\n",
    "# call in the created aa sequence to be computed\n",
    "def compute_molecular_weight(aa_seq):\n",
    "    # ProteinAnalysis function will make a temporary sequence as a string \n",
    "    temp_aa = ProteinAnalysis(aa_seq)\n",
    "    molecular_wt = temp_aa.molecular_weight() # calculate the mol.wt for the temporary protein\n",
    "    return molecular_wt"
   ]
  },
  {
   "cell_type": "markdown",
   "id": "5636cfa2",
   "metadata": {},
   "source": [
    "#### 5. Analyzing the GC content"
   ]
  },
  {
   "cell_type": "code",
   "execution_count": 8,
   "id": "777182b2",
   "metadata": {},
   "outputs": [],
   "source": [
    "def gc_content(dna_string):\n",
    "    g_count = dna_string.count(\"G\") # counts how many times G appears in the DNA seq\n",
    "    c_count = dna_string.count(\"C\") # counts how many times C appears in the DNA seq\n",
    "    string_length = len(dna_string) # computes the length of the provided sequence\n",
    "    # sum the g and c and returns the value as a ratio of the entire sequence length\n",
    "    gc = (c_count+g_count)/string_length \n",
    "    return  gc"
   ]
  },
  {
   "cell_type": "code",
   "execution_count": 9,
   "id": "c086c013",
   "metadata": {},
   "outputs": [],
   "source": [
    "#%%%%%%%%%%%%%%%%#\n",
    "###   MAIN   ###\n",
    "#%%%%%%%%%%%%%%%%#"
   ]
  },
  {
   "cell_type": "code",
   "execution_count": 10,
   "id": "e2354663",
   "metadata": {},
   "outputs": [],
   "source": [
    "import numpy as np\n",
    "file1 = 'penguins_cytb.fasta'\n",
    "cytb_seqs = get_sequences_from_file(file1) "
   ]
  },
  {
   "cell_type": "code",
   "execution_count": 11,
   "id": "e04d8343",
   "metadata": {},
   "outputs": [],
   "source": [
    "penguins_df = pd.read_csv(\"penguins_mass.csv\") # Includes only data for body mass"
   ]
  },
  {
   "cell_type": "code",
   "execution_count": 12,
   "id": "93ea414b",
   "metadata": {},
   "outputs": [],
   "source": [
    "species_list = list(penguins_df.species)"
   ]
  },
  {
   "cell_type": "markdown",
   "id": "995dc086",
   "metadata": {},
   "source": [
    "#### 6. Adding two columns for Molecular weight and body mass"
   ]
  },
  {
   "cell_type": "code",
   "execution_count": 13,
   "id": "5e921b18",
   "metadata": {},
   "outputs": [],
   "source": [
    "for index, row in penguins_df.iterrows():\n",
    "            # create two new columns with 'NaN' to indicate they are empty\n",
    "            penguins_df.loc[index,'Molecular_wt'] = 'NaN'\n",
    "            penguins_df.loc[index,'GC content'] = 'NaN'"
   ]
  },
  {
   "cell_type": "markdown",
   "id": "181c7c26",
   "metadata": {},
   "source": [
    "#### 7. Translate each sequence, get its molecular weight and GC content"
   ]
  },
  {
   "cell_type": "code",
   "execution_count": 14,
   "id": "3a8e9cb1",
   "metadata": {},
   "outputs": [],
   "source": [
    "# open empty lists to accomodate the molecular weights and GC contents\n",
    "molecular_wt_list = []\n",
    "gc_content_list = []\n",
    "# for the loop through; each key represents a species; \n",
    "# value is the dna sequence for each of the species;\n",
    "for key, value in cytb_seqs.items():\n",
    "    aa_seq = translate_viaLib(value) #translate the dna seq\n",
    "    molecular_wt = compute_molecular_weight(str(aa_seq)) # compute the seq's molecular weight\n",
    "    gc_prop = gc_content(value) # compute the GC content\n",
    "    # assign the computed values to the previously opened empty lists\n",
    "    molecular_wt_list.append(molecular_wt)\n",
    "    gc_content_list.append(gc_prop)\n",
    "\n",
    "# replace the 'NaN' with the results of computation\n",
    "penguins_df[\"Molecular_wt\"] = molecular_wt_list\n",
    "penguins_df[\"GC content\"] = gc_content_list"
   ]
  },
  {
   "cell_type": "code",
   "execution_count": 15,
   "id": "b0aa51cd",
   "metadata": {},
   "outputs": [
    {
     "data": {
      "text/html": [
       "<div>\n",
       "<style scoped>\n",
       "    .dataframe tbody tr th:only-of-type {\n",
       "        vertical-align: middle;\n",
       "    }\n",
       "\n",
       "    .dataframe tbody tr th {\n",
       "        vertical-align: top;\n",
       "    }\n",
       "\n",
       "    .dataframe thead th {\n",
       "        text-align: right;\n",
       "    }\n",
       "</style>\n",
       "<table border=\"1\" class=\"dataframe\">\n",
       "  <thead>\n",
       "    <tr style=\"text-align: right;\">\n",
       "      <th></th>\n",
       "      <th>species</th>\n",
       "      <th>mass</th>\n",
       "      <th>Molecular_wt</th>\n",
       "      <th>GC content</th>\n",
       "    </tr>\n",
       "  </thead>\n",
       "  <tbody>\n",
       "    <tr>\n",
       "      <th>0</th>\n",
       "      <td>Aptenodytes forsteri</td>\n",
       "      <td>28.00</td>\n",
       "      <td>42459.6021</td>\n",
       "      <td>0.483815</td>\n",
       "    </tr>\n",
       "    <tr>\n",
       "      <th>1</th>\n",
       "      <td>Aptenodytes patagonicus</td>\n",
       "      <td>13.40</td>\n",
       "      <td>42563.7067</td>\n",
       "      <td>0.496938</td>\n",
       "    </tr>\n",
       "    <tr>\n",
       "      <th>2</th>\n",
       "      <td>Eudyptes chrysocome</td>\n",
       "      <td>2.80</td>\n",
       "      <td>42475.5753</td>\n",
       "      <td>0.511811</td>\n",
       "    </tr>\n",
       "    <tr>\n",
       "      <th>3</th>\n",
       "      <td>Eudyptes chrysolophus</td>\n",
       "      <td>4.50</td>\n",
       "      <td>42445.5493</td>\n",
       "      <td>0.509186</td>\n",
       "    </tr>\n",
       "    <tr>\n",
       "      <th>4</th>\n",
       "      <td>Eudyptes sclateri</td>\n",
       "      <td>4.25</td>\n",
       "      <td>42475.5753</td>\n",
       "      <td>0.508311</td>\n",
       "    </tr>\n",
       "    <tr>\n",
       "      <th>5</th>\n",
       "      <td>Eudyptula minor</td>\n",
       "      <td>1.60</td>\n",
       "      <td>42491.6408</td>\n",
       "      <td>0.492563</td>\n",
       "    </tr>\n",
       "    <tr>\n",
       "      <th>6</th>\n",
       "      <td>Pygoscelis adeliae</td>\n",
       "      <td>4.60</td>\n",
       "      <td>42458.6140</td>\n",
       "      <td>0.490814</td>\n",
       "    </tr>\n",
       "    <tr>\n",
       "      <th>7</th>\n",
       "      <td>Pygoscelis antarctica</td>\n",
       "      <td>4.10</td>\n",
       "      <td>42404.5423</td>\n",
       "      <td>0.477690</td>\n",
       "    </tr>\n",
       "    <tr>\n",
       "      <th>8</th>\n",
       "      <td>Pygoscelis papua</td>\n",
       "      <td>6.10</td>\n",
       "      <td>42595.8759</td>\n",
       "      <td>0.471566</td>\n",
       "    </tr>\n",
       "    <tr>\n",
       "      <th>9</th>\n",
       "      <td>Spheniscus demersus</td>\n",
       "      <td>3.20</td>\n",
       "      <td>42431.5490</td>\n",
       "      <td>0.482940</td>\n",
       "    </tr>\n",
       "    <tr>\n",
       "      <th>10</th>\n",
       "      <td>Spheniscus humboldti</td>\n",
       "      <td>4.75</td>\n",
       "      <td>42399.5520</td>\n",
       "      <td>0.492563</td>\n",
       "    </tr>\n",
       "    <tr>\n",
       "      <th>11</th>\n",
       "      <td>Spheniscus magellanicus</td>\n",
       "      <td>3.40</td>\n",
       "      <td>42459.6021</td>\n",
       "      <td>0.482065</td>\n",
       "    </tr>\n",
       "  </tbody>\n",
       "</table>\n",
       "</div>"
      ],
      "text/plain": [
       "                    species   mass  Molecular_wt  GC content\n",
       "0      Aptenodytes forsteri  28.00    42459.6021    0.483815\n",
       "1   Aptenodytes patagonicus  13.40    42563.7067    0.496938\n",
       "2       Eudyptes chrysocome   2.80    42475.5753    0.511811\n",
       "3     Eudyptes chrysolophus   4.50    42445.5493    0.509186\n",
       "4         Eudyptes sclateri   4.25    42475.5753    0.508311\n",
       "5           Eudyptula minor   1.60    42491.6408    0.492563\n",
       "6        Pygoscelis adeliae   4.60    42458.6140    0.490814\n",
       "7     Pygoscelis antarctica   4.10    42404.5423    0.477690\n",
       "8          Pygoscelis papua   6.10    42595.8759    0.471566\n",
       "9       Spheniscus demersus   3.20    42431.5490    0.482940\n",
       "10     Spheniscus humboldti   4.75    42399.5520    0.492563\n",
       "11  Spheniscus magellanicus   3.40    42459.6021    0.482065"
      ]
     },
     "execution_count": 15,
     "metadata": {},
     "output_type": "execute_result"
    }
   ],
   "source": [
    "penguins_df # checking to make sure the codes are doing what I tell them to "
   ]
  },
  {
   "cell_type": "markdown",
   "id": "5fe2982a",
   "metadata": {},
   "source": [
    "#### 8. Visualizing species by mass"
   ]
  },
  {
   "cell_type": "code",
   "execution_count": 16,
   "id": "42612f0d",
   "metadata": {},
   "outputs": [
    {
     "data": {
      "text/plain": [
       "<AxesSubplot:title={'center':'Mass by species'}, xlabel='species'>"
      ]
     },
     "execution_count": 16,
     "metadata": {},
     "output_type": "execute_result"
    },
    {
     "data": {
      "image/png": "[encoded data removed]",
      "text/plain": [
       "<Figure size 432x288 with 1 Axes>"
      ]
     },
     "metadata": {
      "needs_background": "light"
     },
     "output_type": "display_data"
    }
   ],
   "source": [
    "# use the matplotlib function; functional for jupyter notebooks\n",
    "%matplotlib inline\n",
    "# plot with the x-axis having the species and the y-axis is their respective masses\n",
    "penguins_df.plot(kind='bar',x='species',y='mass', title='Mass by species')"
   ]
  },
  {
   "cell_type": "markdown",
   "id": "4c138a03",
   "metadata": {},
   "source": [
    "*Q1* What is the smallest penguin species?\n",
    "##### Eudyptula minor\n",
    "\n",
    "*Q2* What is the geographical range of this species?\n",
    "##### This species is native to the coasts of New Zealand but is also found in the southern coast of Australia and towards the South Solitary Island off the coast of New South Wales.  [(Hoskins et al., 2008)](https://doi.org/10.3354/meps07507) "
   ]
  },
  {
   "cell_type": "markdown",
   "id": "340db44a",
   "metadata": {},
   "source": [
    "#### 9. Molecular weight Vs GC content"
   ]
  },
  {
   "cell_type": "code",
   "execution_count": 17,
   "id": "832d2a70",
   "metadata": {},
   "outputs": [
    {
     "data": {
      "text/plain": [
       "<AxesSubplot:title={'center':'Relationship between molecular weight and GC content'}, xlabel='GC content', ylabel='Molecular_wt'>"
      ]
     },
     "execution_count": 17,
     "metadata": {},
     "output_type": "execute_result"
    },
    {
     "data": {
      "image/png": "[encoded data removed]",
      "text/plain": [
       "<Figure size 432x288 with 1 Axes>"
      ]
     },
     "metadata": {
      "needs_background": "light"
     },
     "output_type": "display_data"
    }
   ],
   "source": [
    "# define data for the axes\n",
    "x_data = molecular_wt_list\n",
    "y_data = gc_content_list\n",
    "# this can be ploted on a scatter plot\n",
    "penguins_df.plot(kind='scatter',x=\"GC content\",y=\"Molecular_wt\", title='Relationship between molecular weight and GC content')"
   ]
  },
  {
   "cell_type": "markdown",
   "id": "70afe488",
   "metadata": {},
   "source": [
    "#### 10. Saving the new DataFrame"
   ]
  },
  {
   "cell_type": "code",
   "execution_count": 18,
   "id": "7442f541",
   "metadata": {},
   "outputs": [],
   "source": [
    "penguins_df.to_csv('penguins_mass_cytb.csv', index=False)"
   ]
  },
  {
   "cell_type": "markdown",
   "id": "42115cac",
   "metadata": {},
   "source": [
    "#### 11. BONUS\n",
    "I looked at the positioning of the Molecular weights of the different species on a plane. This was intended to give me a quick insight of the any species' molecular weight relative to any other species in the sample."
   ]
  },
  {
   "cell_type": "code",
   "execution_count": 19,
   "id": "c222ea77",
   "metadata": {},
   "outputs": [
    {
     "name": "stdout",
     "output_type": "stream",
     "text": [
      "Requirement already satisfied: seaborn in c:\\users\\aisha\\anaconda3\\lib\\site-packages (0.11.2)\n",
      "Requirement already satisfied: matplotlib>=2.2 in c:\\users\\aisha\\anaconda3\\lib\\site-packages (from seaborn) (3.4.3)\n",
      "Requirement already satisfied: numpy>=1.15 in c:\\users\\aisha\\anaconda3\\lib\\site-packages (from seaborn) (1.20.3)\n",
      "Requirement already satisfied: pandas>=0.23 in c:\\users\\aisha\\anaconda3\\lib\\site-packages (from seaborn) (1.3.4)\n",
      "Requirement already satisfied: scipy>=1.0 in c:\\users\\aisha\\anaconda3\\lib\\site-packages (from seaborn) (1.7.1)\n",
      "Requirement already satisfied: cycler>=0.10 in c:\\users\\aisha\\anaconda3\\lib\\site-packages (from matplotlib>=2.2->seaborn) (0.10.0)\n",
      "Requirement already satisfied: pillow>=6.2.0 in c:\\users\\aisha\\anaconda3\\lib\\site-packages (from matplotlib>=2.2->seaborn) (8.4.0)\n",
      "Requirement already satisfied: pyparsing>=2.2.1 in c:\\users\\aisha\\anaconda3\\lib\\site-packages (from matplotlib>=2.2->seaborn) (3.0.4)\n",
      "Requirement already satisfied: kiwisolver>=1.0.1 in c:\\users\\aisha\\anaconda3\\lib\\site-packages (from matplotlib>=2.2->seaborn) (1.3.1)\n",
      "Requirement already satisfied: python-dateutil>=2.7 in c:\\users\\aisha\\anaconda3\\lib\\site-packages (from matplotlib>=2.2->seaborn) (2.8.2)\n",
      "Requirement already satisfied: six in c:\\users\\aisha\\anaconda3\\lib\\site-packages (from cycler>=0.10->matplotlib>=2.2->seaborn) (1.16.0)\n",
      "Requirement already satisfied: pytz>=2017.3 in c:\\users\\aisha\\anaconda3\\lib\\site-packages (from pandas>=0.23->seaborn) (2021.3)\n"
     ]
    }
   ],
   "source": [
    "# may not run this if you already have it installed\n",
    "!pip install seaborn "
   ]
  },
  {
   "cell_type": "code",
   "execution_count": 20,
   "id": "36f2cffc",
   "metadata": {},
   "outputs": [],
   "source": [
    "import matplotlib.pyplot as plt\n",
    "import seaborn as sns"
   ]
  },
  {
   "cell_type": "code",
   "execution_count": 21,
   "id": "3c1b8a38",
   "metadata": {},
   "outputs": [],
   "source": [
    "# set plot dimensions\n",
    "plot_dims = (12, 9)"
   ]
  },
  {
   "cell_type": "code",
   "execution_count": 22,
   "id": "f3711343",
   "metadata": {},
   "outputs": [
    {
     "data": {
      "text/plain": [
       "([Text(0.5, 0, 'Species'), Text(0, 0.5, 'Molecular weight (g)')],)"
      ]
     },
     "execution_count": 22,
     "metadata": {},
     "output_type": "execute_result"
    },
    {
     "data": {
      "image/png": "[encoded data removed]",
      "text/plain": [
       "<Figure size 864x648 with 1 Axes>"
      ]
     },
     "metadata": {
      "needs_background": "light"
     },
     "output_type": "display_data"
    }
   ],
   "source": [
    "fig, ax = plt.subplots(figsize=plot_dims)\n",
    "sns.boxplot(x='species', y='Molecular_wt', data=penguins_df) # used the penguins_df from the previous analyses\n",
    "ax.set(xlabel='Species', ylabel='Molecular weight (g)'),"
   ]
  },
  {
   "cell_type": "markdown",
   "id": "6779423e",
   "metadata": {},
   "source": [
    "# END"
   ]
  }
 ],
 "metadata": {
  "kernelspec": {
   "display_name": "Python 3 (ipykernel)",
   "language": "python",
   "name": "python3"
  },
  "language_info": {
   "codemirror_mode": {
    "name": "ipython",
    "version": 3
   },
   "file_extension": ".py",
   "mimetype": "text/x-python",
   "name": "python",
   "nbconvert_exporter": "python",
   "pygments_lexer": "ipython3",
   "version": "3.9.7"
  }
 },
 "nbformat": 4,
 "nbformat_minor": 5
}
